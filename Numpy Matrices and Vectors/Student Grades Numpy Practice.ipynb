{
 "cells": [
  {
   "cell_type": "code",
   "execution_count": 1,
   "metadata": {},
   "outputs": [],
   "source": [
    "#Explore what I have learned with thte practical example of a list of student grades"
   ]
  },
  {
   "cell_type": "code",
   "execution_count": 2,
   "metadata": {},
   "outputs": [],
   "source": [
    "import numpy as np"
   ]
  },
  {
   "cell_type": "code",
   "execution_count": 5,
   "metadata": {},
   "outputs": [
    {
     "name": "stdout",
     "output_type": "stream",
     "text": [
      "[ 57  95  98  86  70 100  65  90  80  88]\n"
     ]
    }
   ],
   "source": [
    "#Create student grades array\n",
    "student_grades = np.array([57,95,98,86,70,100,65,90,80,88])\n",
    "print(student_grades)"
   ]
  },
  {
   "cell_type": "code",
   "execution_count": 6,
   "metadata": {},
   "outputs": [
    {
     "name": "stdout",
     "output_type": "stream",
     "text": [
      "82.9\n"
     ]
    }
   ],
   "source": [
    "#Get Avg\n",
    "class_avg = np.average(student_grades)\n",
    "print(class_avg)"
   ]
  },
  {
   "cell_type": "code",
   "execution_count": 7,
   "metadata": {},
   "outputs": [
    {
     "name": "stdout",
     "output_type": "stream",
     "text": [
      "100\n",
      "57\n"
     ]
    }
   ],
   "source": [
    "#Get highest and lowest grades\n",
    "highest_grade = np.amax(student_grades)\n",
    "print(highest_grade)\n",
    "lowest_grade = np.amin(student_grades)\n",
    "print(lowest_grade)"
   ]
  },
  {
   "cell_type": "code",
   "execution_count": 8,
   "metadata": {},
   "outputs": [
    {
     "name": "stdout",
     "output_type": "stream",
     "text": [
      "5\n",
      "0\n"
     ]
    }
   ],
   "source": [
    "#Get index of highest and lowest grades\n",
    "#argmax and argmin used with machine learning\n",
    "print(np.argmax(student_grades))\n",
    "print(np.argmin(student_grades))"
   ]
  },
  {
   "cell_type": "code",
   "execution_count": 10,
   "metadata": {},
   "outputs": [
    {
     "name": "stdout",
     "output_type": "stream",
     "text": [
      "[ 57  65  70  80  86  88  90  95  98 100]\n",
      "[100  98  95  90  88  86  80  70  65  57]\n"
     ]
    }
   ],
   "source": [
    "#Print grades in ASC and DESC orders\n",
    "print(np.sort(student_grades))\n",
    "print(-np.sort(-student_grades))"
   ]
  },
  {
   "cell_type": "code",
   "execution_count": 13,
   "metadata": {},
   "outputs": [
    {
     "name": "stdout",
     "output_type": "stream",
     "text": [
      "[ 62.7 104.5 107.8  94.6  77.  110.   71.5  99.   88.   96.8]\n"
     ]
    }
   ],
   "source": [
    "#Increase grades by 10% of the current grade\n",
    "increase_grades = student_grades * 1.1\n",
    "print(increase_grades)"
   ]
  },
  {
   "cell_type": "code",
   "execution_count": 14,
   "metadata": {},
   "outputs": [
    {
     "name": "stdout",
     "output_type": "stream",
     "text": [
      "[ 62.7 104.5 107.8  94.6  77.  110.   71.5  99.   88.   96.8]\n"
     ]
    }
   ],
   "source": [
    "#Increase grades by 10\n",
    "increase_grades = student_grades + 10\n",
    "print(increase_grades)"
   ]
  },
  {
   "cell_type": "code",
   "execution_count": 15,
   "metadata": {},
   "outputs": [
    {
     "name": "stdout",
     "output_type": "stream",
     "text": [
      "[ 58.  96.  99.  87.  71. 101.  66.  91.  81.  89.]\n"
     ]
    }
   ],
   "source": [
    "#Increase grades by 1\n",
    "print(np.add(student_grades, np.ones(10)))"
   ]
  },
  {
   "cell_type": "code",
   "execution_count": 16,
   "metadata": {},
   "outputs": [
    {
     "name": "stdout",
     "output_type": "stream",
     "text": [
      "[ 58  97 101  90  75 106  72  98  89  98]\n"
     ]
    }
   ],
   "source": [
    "#Increase grades by the respective index\n",
    "print(np.add(student_grades, np.array([1,2,3,4,5,6,7,8,9,10])))"
   ]
  },
  {
   "cell_type": "code",
   "execution_count": null,
   "metadata": {},
   "outputs": [],
   "source": [
    "#Increase grades by the respective index\n",
    "print(np.add(student_grades, np.ones(5)))"
   ]
  }
 ],
 "metadata": {
  "kernelspec": {
   "display_name": "Python 3",
   "language": "python",
   "name": "python3"
  },
  "language_info": {
   "codemirror_mode": {
    "name": "ipython",
    "version": 3
   },
   "file_extension": ".py",
   "mimetype": "text/x-python",
   "name": "python",
   "nbconvert_exporter": "python",
   "pygments_lexer": "ipython3",
   "version": "3.6.5"
  }
 },
 "nbformat": 4,
 "nbformat_minor": 2
}
