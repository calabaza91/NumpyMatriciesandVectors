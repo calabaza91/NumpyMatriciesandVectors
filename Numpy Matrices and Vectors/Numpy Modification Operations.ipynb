{
 "cells": [
  {
   "cell_type": "code",
   "execution_count": 1,
   "metadata": {},
   "outputs": [],
   "source": [
    "#Numpy Modification Operations\n",
    "#Operations to modify numpy arrays or the elements within"
   ]
  },
  {
   "cell_type": "code",
   "execution_count": 2,
   "metadata": {},
   "outputs": [],
   "source": [
    "import numpy as np"
   ]
  },
  {
   "cell_type": "code",
   "execution_count": 3,
   "metadata": {},
   "outputs": [
    {
     "name": "stdout",
     "output_type": "stream",
     "text": [
      "[0 1 2 3 4 5]\n"
     ]
    }
   ],
   "source": [
    "arr = np.arange(0,6)\n",
    "print(arr)"
   ]
  },
  {
   "cell_type": "code",
   "execution_count": 4,
   "metadata": {},
   "outputs": [
    {
     "name": "stdout",
     "output_type": "stream",
     "text": [
      "[10  1  2  3  4  5]\n"
     ]
    }
   ],
   "source": [
    "#Modify first element of array\n",
    "arr[0] = 10\n",
    "print(arr)"
   ]
  },
  {
   "cell_type": "code",
   "execution_count": 5,
   "metadata": {},
   "outputs": [
    {
     "name": "stdout",
     "output_type": "stream",
     "text": [
      "[0 1 2 3 4 5 6]\n",
      "[0 1 2 3 4 5 7 8]\n"
     ]
    }
   ],
   "source": [
    "#Reset array\n",
    "arr = np.arange(0,6)\n",
    "#Adds 6 to end of array\n",
    "print(np.append(arr, 6))\n",
    "#Adds 7 and 8 to end of array\n",
    "print(np.append(arr, [7,8]))"
   ]
  },
  {
   "cell_type": "code",
   "execution_count": 7,
   "metadata": {},
   "outputs": [
    {
     "name": "stdout",
     "output_type": "stream",
     "text": [
      "[ 0 10 11  1  2  3  4  5]\n"
     ]
    }
   ],
   "source": [
    "#Insert 10 and 11 at index 1\n",
    "print(np.insert(arr, 1, [10, 11]))"
   ]
  },
  {
   "cell_type": "code",
   "execution_count": 9,
   "metadata": {},
   "outputs": [
    {
     "name": "stdout",
     "output_type": "stream",
     "text": [
      "[0 2 3 4 5]\n"
     ]
    }
   ],
   "source": [
    "#Deletes element and shifts everything over\n",
    "print(np.delete(arr, 3))"
   ]
  },
  {
   "cell_type": "code",
   "execution_count": 10,
   "metadata": {},
   "outputs": [
    {
     "name": "stdout",
     "output_type": "stream",
     "text": [
      "[ 0  2  4  6  8 10]\n",
      "[0 1 0 1 0 1]\n",
      "[2 3 4 5 6 7]\n"
     ]
    }
   ],
   "source": [
    "#Modify with operators\n",
    "print(arr * 2)\n",
    "print(arr % 2)\n",
    "print(arr + 2) #etc."
   ]
  },
  {
   "cell_type": "code",
   "execution_count": 13,
   "metadata": {},
   "outputs": [
    {
     "name": "stdout",
     "output_type": "stream",
     "text": [
      "[ 1  3  5  6 10 21]\n"
     ]
    }
   ],
   "source": [
    "#Sort array ASC\n",
    "arr2 = np.array([3,6,21,10,5,1])\n",
    "print(np.sort(arr2))"
   ]
  },
  {
   "cell_type": "code",
   "execution_count": 14,
   "metadata": {},
   "outputs": [
    {
     "name": "stdout",
     "output_type": "stream",
     "text": [
      "[-21 -10  -6  -5  -3  -1]\n",
      "[21 10  6  5  3  1]\n"
     ]
    }
   ],
   "source": [
    "#Sort array DESC\n",
    "#Multiplies array by -1 and sorts as ASC\n",
    "print(np.sort(-arr2))\n",
    "#Negate negative values to sort as DESC\n",
    "print(-np.sort(-arr2))"
   ]
  },
  {
   "cell_type": "code",
   "execution_count": null,
   "metadata": {},
   "outputs": [],
   "source": []
  }
 ],
 "metadata": {
  "kernelspec": {
   "display_name": "Python 3",
   "language": "python",
   "name": "python3"
  },
  "language_info": {
   "codemirror_mode": {
    "name": "ipython",
    "version": 3
   },
   "file_extension": ".py",
   "mimetype": "text/x-python",
   "name": "python",
   "nbconvert_exporter": "python",
   "pygments_lexer": "ipython3",
   "version": "3.6.5"
  }
 },
 "nbformat": 4,
 "nbformat_minor": 2
}
